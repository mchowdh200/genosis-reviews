{
 "cells": [
  {
   "cell_type": "code",
   "execution_count": 1,
   "id": "d4b95ae3-e9c4-4b5c-8e50-436321acfed9",
   "metadata": {},
   "outputs": [],
   "source": [
    "import numpy as np\n",
    "import pandas as pd"
   ]
  },
  {
   "cell_type": "markdown",
   "id": "0bc7c960-2405-4075-ba47-aa374444e4f2",
   "metadata": {},
   "source": [
    "## Load the sample list (with haplotype code appended)"
   ]
  },
  {
   "cell_type": "code",
   "execution_count": 2,
   "id": "3e5bc77e-8106-440f-bc79-d80280a90abc",
   "metadata": {},
   "outputs": [],
   "source": [
    "sample_list = \"sample_list.txt\"\n",
    "sample_list = [s.strip() for s in open(sample_list, \"r\").readlines()]"
   ]
  },
  {
   "cell_type": "markdown",
   "id": "d810472d-881f-4178-8944-7bad32a17616",
   "metadata": {},
   "source": [
    "## Load the sample table which contains sub/super pop info"
   ]
  },
  {
   "cell_type": "code",
   "execution_count": 3,
   "id": "590bea09-44b5-4789-89b1-0ae1f508e828",
   "metadata": {},
   "outputs": [
    {
     "data": {
      "text/html": [
       "<div>\n",
       "<style scoped>\n",
       "    .dataframe tbody tr th:only-of-type {\n",
       "        vertical-align: middle;\n",
       "    }\n",
       "\n",
       "    .dataframe tbody tr th {\n",
       "        vertical-align: top;\n",
       "    }\n",
       "\n",
       "    .dataframe thead th {\n",
       "        text-align: right;\n",
       "    }\n",
       "</style>\n",
       "<table border=\"1\" class=\"dataframe\">\n",
       "  <thead>\n",
       "    <tr style=\"text-align: right;\">\n",
       "      <th></th>\n",
       "      <th>Sample name</th>\n",
       "      <th>Sex</th>\n",
       "      <th>Biosample ID</th>\n",
       "      <th>Population code</th>\n",
       "      <th>Population name</th>\n",
       "      <th>Superpopulation code</th>\n",
       "      <th>Superpopulation name</th>\n",
       "      <th>Population elastic ID</th>\n",
       "      <th>Data collections</th>\n",
       "    </tr>\n",
       "  </thead>\n",
       "  <tbody>\n",
       "    <tr>\n",
       "      <th>0</th>\n",
       "      <td>HG00271</td>\n",
       "      <td>male</td>\n",
       "      <td>SAME123417</td>\n",
       "      <td>FIN</td>\n",
       "      <td>Finnish</td>\n",
       "      <td>EUR</td>\n",
       "      <td>European Ancestry</td>\n",
       "      <td>FIN</td>\n",
       "      <td>1000 Genomes on GRCh38,1000 Genomes 30x on GRC...</td>\n",
       "    </tr>\n",
       "    <tr>\n",
       "      <th>1</th>\n",
       "      <td>HG00276</td>\n",
       "      <td>female</td>\n",
       "      <td>SAME123424</td>\n",
       "      <td>FIN</td>\n",
       "      <td>Finnish</td>\n",
       "      <td>EUR</td>\n",
       "      <td>European Ancestry</td>\n",
       "      <td>FIN</td>\n",
       "      <td>1000 Genomes on GRCh38,1000 Genomes 30x on GRC...</td>\n",
       "    </tr>\n",
       "    <tr>\n",
       "      <th>2</th>\n",
       "      <td>HG00288</td>\n",
       "      <td>female</td>\n",
       "      <td>SAME1839246</td>\n",
       "      <td>FIN</td>\n",
       "      <td>Finnish</td>\n",
       "      <td>EUR</td>\n",
       "      <td>European Ancestry</td>\n",
       "      <td>FIN</td>\n",
       "      <td>1000 Genomes on GRCh38,1000 Genomes 30x on GRC...</td>\n",
       "    </tr>\n",
       "    <tr>\n",
       "      <th>3</th>\n",
       "      <td>HG00290</td>\n",
       "      <td>male</td>\n",
       "      <td>SAME1839057</td>\n",
       "      <td>FIN</td>\n",
       "      <td>Finnish</td>\n",
       "      <td>EUR</td>\n",
       "      <td>European Ancestry</td>\n",
       "      <td>FIN</td>\n",
       "      <td>1000 Genomes on GRCh38,1000 Genomes 30x on GRC...</td>\n",
       "    </tr>\n",
       "    <tr>\n",
       "      <th>4</th>\n",
       "      <td>HG00308</td>\n",
       "      <td>male</td>\n",
       "      <td>SAME124161</td>\n",
       "      <td>FIN</td>\n",
       "      <td>Finnish</td>\n",
       "      <td>EUR</td>\n",
       "      <td>European Ancestry</td>\n",
       "      <td>FIN</td>\n",
       "      <td>1000 Genomes on GRCh38,1000 Genomes 30x on GRC...</td>\n",
       "    </tr>\n",
       "  </tbody>\n",
       "</table>\n",
       "</div>"
      ],
      "text/plain": [
       "  Sample name     Sex Biosample ID Population code Population name  \\\n",
       "0     HG00271    male   SAME123417             FIN         Finnish   \n",
       "1     HG00276  female   SAME123424             FIN         Finnish   \n",
       "2     HG00288  female  SAME1839246             FIN         Finnish   \n",
       "3     HG00290    male  SAME1839057             FIN         Finnish   \n",
       "4     HG00308    male   SAME124161             FIN         Finnish   \n",
       "\n",
       "  Superpopulation code Superpopulation name Population elastic ID  \\\n",
       "0                  EUR    European Ancestry                   FIN   \n",
       "1                  EUR    European Ancestry                   FIN   \n",
       "2                  EUR    European Ancestry                   FIN   \n",
       "3                  EUR    European Ancestry                   FIN   \n",
       "4                  EUR    European Ancestry                   FIN   \n",
       "\n",
       "                                    Data collections  \n",
       "0  1000 Genomes on GRCh38,1000 Genomes 30x on GRC...  \n",
       "1  1000 Genomes on GRCh38,1000 Genomes 30x on GRC...  \n",
       "2  1000 Genomes on GRCh38,1000 Genomes 30x on GRC...  \n",
       "3  1000 Genomes on GRCh38,1000 Genomes 30x on GRC...  \n",
       "4  1000 Genomes on GRCh38,1000 Genomes 30x on GRC...  "
      ]
     },
     "execution_count": 3,
     "metadata": {},
     "output_type": "execute_result"
    }
   ],
   "source": [
    "sample_table = \"1kg_sample_table.tsv\"\n",
    "sample_table = pd.read_csv(sample_table, sep='\\t')\n",
    "sample_table.head()"
   ]
  },
  {
   "cell_type": "markdown",
   "id": "1365ceb6-7805-46e9-969f-633f469b12a7",
   "metadata": {},
   "source": [
    "## Remove AFR samples from the table"
   ]
  },
  {
   "cell_type": "code",
   "execution_count": 4,
   "id": "c78d70cf-6f96-4512-bca8-07e499af3abb",
   "metadata": {},
   "outputs": [],
   "source": [
    "no_afr_table = sample_table[sample_table[\"Superpopulation code\"] != \"AFR\"]\n"
   ]
  },
  {
   "cell_type": "markdown",
   "id": "52e5f3d6-5a47-40a6-9345-6a09947ddc1e",
   "metadata": {},
   "source": [
    "## Remove AFR samples from the sample list"
   ]
  },
  {
   "cell_type": "code",
   "execution_count": 5,
   "id": "fc38ea5f-42c6-4bc7-9376-ec1ed658b384",
   "metadata": {},
   "outputs": [],
   "source": [
    "keep_samples = set(no_afr_table[\"Sample name\"].values) \n",
    "filtered_list = [s for s in sample_list if s.split(\"_\")[0] in keep_samples]"
   ]
  },
  {
   "cell_type": "markdown",
   "id": "81ff2d34-7a6d-434a-a5ed-c35dd46e190e",
   "metadata": {},
   "source": [
    "## Sanity checks"
   ]
  },
  {
   "cell_type": "code",
   "execution_count": 6,
   "id": "50d156c4-1c8d-4952-8dcf-a127c538282f",
   "metadata": {},
   "outputs": [
    {
     "name": "stdout",
     "output_type": "stream",
     "text": [
      "len(filtered_list)//2 = 2309\n",
      "len(sample_list)//2 = 3202\n"
     ]
    }
   ],
   "source": [
    "print(f\"{len(filtered_list)//2 = }\")\n",
    "print(f\"{len(sample_list)//2 = }\")"
   ]
  },
  {
   "cell_type": "code",
   "execution_count": 7,
   "id": "b62b682c-5f37-48f0-9b36-b53565912764",
   "metadata": {},
   "outputs": [
    {
     "name": "stdout",
     "output_type": "stream",
     "text": [
      "len(no_afr_table) = 2309\n",
      "len(sample_table) = 3202\n"
     ]
    }
   ],
   "source": [
    "print(f\"{len(no_afr_table) = }\")\n",
    "print(f\"{len(sample_table) = }\")"
   ]
  },
  {
   "cell_type": "markdown",
   "id": "76293671-3fd4-44ba-b24d-ae64f3d18e86",
   "metadata": {},
   "source": [
    "## Save to disk"
   ]
  },
  {
   "cell_type": "code",
   "execution_count": 9,
   "id": "916c320e-e883-48d0-8892-cbe505e564f7",
   "metadata": {},
   "outputs": [],
   "source": [
    "with open(\"no_afr_sample_list.txt\", \"w\") as f:\n",
    "    for sample in filtered_list:\n",
    "        f.write(f\"{sample}\\n\")"
   ]
  },
  {
   "cell_type": "code",
   "execution_count": null,
   "id": "81907cdf-698b-4338-994d-f0891a427137",
   "metadata": {},
   "outputs": [],
   "source": [
    "no_afr_table.to_csv(\"no_afr_sample_table.tsv\", sep=\"\\t\")"
   ]
  }
 ],
 "metadata": {
  "kernelspec": {
   "display_name": "Python 3 (ipykernel)",
   "language": "python",
   "name": "python3"
  },
  "language_info": {
   "codemirror_mode": {
    "name": "ipython",
    "version": 3
   },
   "file_extension": ".py",
   "mimetype": "text/x-python",
   "name": "python",
   "nbconvert_exporter": "python",
   "pygments_lexer": "ipython3",
   "version": "3.13.3"
  }
 },
 "nbformat": 4,
 "nbformat_minor": 5
}
